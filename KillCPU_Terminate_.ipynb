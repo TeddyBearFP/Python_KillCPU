{
 "cells": [
  {
   "cell_type": "code",
   "execution_count": 3,
   "metadata": {},
   "outputs": [],
   "source": [
    "from multiprocessing import Process\n",
    "\n",
    "def looping():\n",
    "    try:\n",
    "        while True:\n",
    "            i = 0\n",
    "            i += 1\n",
    "    except KeyboardInterrupt:\n",
    "        pass\n",
    "\n",
    "if __name__ == \"__main__\":\n",
    "    Processes = None\n",
    "    try:\n",
    "        Processes = [Process(target=looping) for i in range(4)]\n",
    "        \n",
    "        for p in Processes:\n",
    "            p.daemon = True\n",
    "            p.start()\n",
    "        for p in Processes:\n",
    "            p.join()\n",
    "    except KeyboardInterrupt:\n",
    "        for p in Processes:\n",
    "            p.terminate()\n",
    "        print (\"Kill all looping!!\")"
   ]
  },
  {
   "cell_type": "code",
   "execution_count": null,
   "metadata": {},
   "outputs": [],
   "source": []
  }
 ],
 "metadata": {
  "kernelspec": {
   "display_name": "Python 3",
   "language": "python",
   "name": "python3"
  },
  "language_info": {
   "codemirror_mode": {
    "name": "ipython",
    "version": 3
   },
   "file_extension": ".py",
   "mimetype": "text/x-python",
   "name": "python",
   "nbconvert_exporter": "python",
   "pygments_lexer": "ipython3",
   "version": "3.6.5"
  }
 },
 "nbformat": 4,
 "nbformat_minor": 2
}
